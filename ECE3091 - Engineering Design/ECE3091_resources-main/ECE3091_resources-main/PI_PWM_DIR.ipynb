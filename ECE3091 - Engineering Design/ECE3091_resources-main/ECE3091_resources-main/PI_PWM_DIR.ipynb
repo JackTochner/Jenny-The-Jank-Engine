{
 "cells": [
  {
   "cell_type": "code",
   "execution_count": 2,
   "source": [
    "import gpiozero\r\n",
    "import time"
   ],
   "outputs": [
    {
     "output_type": "error",
     "ename": "ModuleNotFoundError",
     "evalue": "No module named 'gpiozero'",
     "traceback": [
      "\u001b[1;31m---------------------------------------------------------------------------\u001b[0m",
      "\u001b[1;31mModuleNotFoundError\u001b[0m                       Traceback (most recent call last)",
      "\u001b[1;32m~\\AppData\\Local\\Temp/ipykernel_2640/3183083414.py\u001b[0m in \u001b[0;36m<module>\u001b[1;34m\u001b[0m\n\u001b[1;32m----> 1\u001b[1;33m \u001b[1;32mimport\u001b[0m \u001b[0mgpiozero\u001b[0m\u001b[1;33m\u001b[0m\u001b[1;33m\u001b[0m\u001b[0m\n\u001b[0m\u001b[0;32m      2\u001b[0m \u001b[1;32mimport\u001b[0m \u001b[0mtime\u001b[0m\u001b[1;33m\u001b[0m\u001b[1;33m\u001b[0m\u001b[0m\n",
      "\u001b[1;31mModuleNotFoundError\u001b[0m: No module named 'gpiozero'"
     ]
    }
   ],
   "metadata": {}
  },
  {
   "cell_type": "markdown",
   "source": [
    "#### PWM motor control and shaft encoder feedback\n",
    "\n",
    "I'll use the [gpiozero](https://gpiozero.readthedocs.io/en/stable/) high level interface to the electronics. If you want more control, consider [RPi.GPIO](https://pypi.org/project/RPi.GPIO/) or [pigpio](http://abyz.me.uk/rpi/pigpio/). The code below turns on a pwm control, toggles the direction of the pwm drive, and reads from a rotary encoder. Parameters aren't tuned or properly set-up at all."
   ],
   "metadata": {}
  },
  {
   "cell_type": "code",
   "execution_count": null,
   "source": [
    "pwm = gpiozero.PWMOutputDevice(pin=12,active_high=True,initial_value=0,frequency=50000)\r\n",
    "direction = gpiozero.OutputDevice(pin=4)"
   ],
   "outputs": [],
   "metadata": {}
  },
  {
   "cell_type": "code",
   "execution_count": null,
   "source": [
    "encoder = gpiozero.RotaryEncoder(a=5, b=6,max_steps=100000) \r\n",
    "# This class has a lot more functionality,so worth reading up on it"
   ],
   "outputs": [],
   "metadata": {}
  },
  {
   "cell_type": "code",
   "execution_count": null,
   "source": [
    "# Step through duty cycle values, slowly increasing the speed and changing the direction of motion\r\n",
    "pre_steps = 0\r\n",
    "for j in range(10):\r\n",
    "    pwm.value = j/10\r\n",
    "    direction.value = not direction.value\r\n",
    "    print('Duty cycle:',pwm.value,'Direction:',direction.value)\r\n",
    "    time.sleep(5.0)\r\n",
    "    print('Counter:',encoder.steps,'Speed:',(encoder.steps-pre_steps)/5.0,'steps per second\\n')\r\n",
    "    pre_steps = encoder.steps\r\n",
    "    \r\n",
    "    #NB, if steps keeps increasing, what about integer overflows?"
   ],
   "outputs": [
    {
     "output_type": "stream",
     "name": "stdout",
     "text": [
      "Duty cycle: 0.0 Direction: 1\n",
      "Counter: 0 Speed: 0.0 steps per second\n",
      "\n",
      "Duty cycle: 0.1 Direction: 0\n",
      "Counter: -3093 Speed: -618.6 steps per second\n",
      "\n",
      "Duty cycle: 0.2 Direction: 1\n",
      "Counter: 61 Speed: 630.8 steps per second\n",
      "\n",
      "Duty cycle: 0.3 Direction: 0\n",
      "Counter: -3244 Speed: -661.2 steps per second\n",
      "\n",
      "Duty cycle: 0.4 Direction: 1\n",
      "Counter: 153 Speed: 679.6 steps per second\n",
      "\n",
      "Duty cycle: 0.5 Direction: 0\n",
      "Counter: -3383 Speed: -707.2 steps per second\n",
      "\n",
      "Duty cycle: 0.6 Direction: 1\n",
      "Counter: 316 Speed: 739.8 steps per second\n",
      "\n",
      "Duty cycle: 0.7 Direction: 0\n",
      "Counter: -3491 Speed: -761.4 steps per second\n",
      "\n",
      "Duty cycle: 0.8 Direction: 1\n",
      "Counter: 407 Speed: 779.8 steps per second\n",
      "\n",
      "Duty cycle: 0.9 Direction: 0\n",
      "Counter: -3660 Speed: -813.4 steps per second\n",
      "\n"
     ]
    }
   ],
   "metadata": {}
  },
  {
   "cell_type": "code",
   "execution_count": null,
   "source": [
    "pwm.off()"
   ],
   "outputs": [],
   "metadata": {}
  }
 ],
 "metadata": {
  "kernelspec": {
   "name": "python3",
   "display_name": "Python 3.7.8 64-bit"
  },
  "language_info": {
   "codemirror_mode": {
    "name": "ipython",
    "version": 3
   },
   "file_extension": ".py",
   "mimetype": "text/x-python",
   "name": "python",
   "nbconvert_exporter": "python",
   "pygments_lexer": "ipython3",
   "version": "3.7.8"
  },
  "interpreter": {
   "hash": "57baa5815c940fdaff4d14510622de9616cae602444507ba5d0b6727c008cbd6"
  }
 },
 "nbformat": 4,
 "nbformat_minor": 4
}