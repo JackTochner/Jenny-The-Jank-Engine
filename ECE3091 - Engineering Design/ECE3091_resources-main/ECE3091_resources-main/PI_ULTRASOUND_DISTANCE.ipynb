{
 "cells": [
  {
   "cell_type": "code",
   "execution_count": 1,
   "source": [
    "import gpiozero\r\n",
    "import time"
   ],
   "outputs": [],
   "metadata": {}
  },
  {
   "cell_type": "markdown",
   "source": [
    "#### Ultrasound distance sensor interfacing\n",
    "\n",
    "I'll use the [gpiozero](https://gpiozero.readthedocs.io/en/stable/) high level interface to the electronics. If you want more control, consider [RPi.GPIO](https://pypi.org/project/RPi.GPIO/) or [pigpio](http://abyz.me.uk/rpi/pigpio/). The code below returns the distance to objects detected by the ultrasound sensor."
   ],
   "metadata": {}
  },
  {
   "cell_type": "code",
   "execution_count": 2,
   "source": [
    "sensor = gpiozero.DistanceSensor(echo=1,trigger=7)"
   ],
   "outputs": [
    {
     "output_type": "stream",
     "name": "stderr",
     "text": [
      "/usr/local/lib/python3.8/dist-packages/gpiozero/input_devices.py:855: PWMSoftwareFallback: For more accurate readings, use the pigpio pin factory.See https://gpiozero.readthedocs.io/en/stable/api_input.html#distancesensor-hc-sr04 for more info\n",
      "  warnings.warn(PWMSoftwareFallback(\n"
     ]
    }
   ],
   "metadata": {}
  },
  {
   "cell_type": "code",
   "execution_count": 3,
   "source": [
    "for j in range(10):\r\n",
    "    print('Distance: ', sensor.distance * 100)\r\n",
    "    time.sleep(1)\r\n",
    "    #helloworld"
   ],
   "outputs": [
    {
     "output_type": "stream",
     "name": "stdout",
     "text": [
      "Distance:  100.0\n",
      "Distance:  100.0\n",
      "Distance:  100.0\n",
      "Distance:  100.0\n",
      "Distance:  7.288113480964056\n",
      "Distance:  100.0\n",
      "Distance:  100.0\n",
      "Distance:  8.574669121939223\n",
      "Distance:  3.858740130726801\n",
      "Distance:  2.819451814808417\n"
     ]
    }
   ],
   "metadata": {}
  }
 ],
 "metadata": {
  "kernelspec": {
   "display_name": "Python 3",
   "language": "python",
   "name": "python3"
  },
  "language_info": {
   "codemirror_mode": {
    "name": "ipython",
    "version": 3
   },
   "file_extension": ".py",
   "mimetype": "text/x-python",
   "name": "python",
   "nbconvert_exporter": "python",
   "pygments_lexer": "ipython3",
   "version": "3.8.5"
  }
 },
 "nbformat": 4,
 "nbformat_minor": 4
}